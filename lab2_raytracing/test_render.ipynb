{
 "cells": [
  {
   "cell_type": "code",
   "execution_count": 1,
   "id": "9877e051",
   "metadata": {},
   "outputs": [],
   "source": [
    "import pandas as pd\n",
    "import numpy as np\n",
    "from tqdm import tqdm\n",
    "\n",
    "import skimage.io as io\n",
    "\n",
    "from code import cuda_render, clear_gpu_memory, cpu_render_scene, cpu_render_scene_parallel\n"
   ]
  },
  {
   "cell_type": "code",
   "execution_count": 2,
   "id": "e80be1ea",
   "metadata": {},
   "outputs": [],
   "source": [
    "image = np.zeros((1024, 1024, 3), dtype=np.uint8)\n",
    "image = np.ascontiguousarray(image)\n",
    "\n",
    "cuda_render(image, 1024, 1024, True)\n",
    "io.imsave('images/big_scene.png', image[::-1])\n",
    "cuda_render(image, 1024, 1024, False)\n",
    "io.imsave('images/small_scene.png', image[::-1])"
   ]
  },
  {
   "cell_type": "code",
   "execution_count": null,
   "id": "776283b8",
   "metadata": {},
   "outputs": [],
   "source": [
    "image = np.zeros((256, 256, 3), dtype=np.uint8)\n",
    "image = np.ascontiguousarray(image)\n",
    "\n",
    "cuda_render(image, 256, 256, True)\n",
    "io.imsave('images/small_scene.png', image[::-1])\n"
   ]
  },
  {
   "cell_type": "code",
   "execution_count": null,
   "id": "67dad1c2",
   "metadata": {},
   "outputs": [],
   "source": [
    "image = np.zeros((256, 256, 3), dtype=np.uint8)\n",
    "image = np.ascontiguousarray(image)\n",
    "\n",
    "cpu_render_scene(image, 256, 256, False)\n",
    "io.imsave('cpu_test.png', image[::-1])\n"
   ]
  },
  {
   "cell_type": "code",
   "execution_count": null,
   "id": "fcb13051",
   "metadata": {},
   "outputs": [],
   "source": [
    "image = np.zeros((256, 256, 3), dtype=np.uint8)\n",
    "image = np.ascontiguousarray(image)\n",
    "\n",
    "cpu_render_scene_parallel(image, 256, 256, False)\n",
    "io.imsave('cpu_parallel_test.png', image[::-1])\n"
   ]
  },
  {
   "cell_type": "code",
   "execution_count": null,
   "id": "9e7982fa",
   "metadata": {},
   "outputs": [],
   "source": []
  }
 ],
 "metadata": {
  "kernelspec": {
   "display_name": "Python 3 (ipykernel)",
   "language": "python",
   "name": "python3"
  },
  "language_info": {
   "codemirror_mode": {
    "name": "ipython",
    "version": 3
   },
   "file_extension": ".py",
   "mimetype": "text/x-python",
   "name": "python",
   "nbconvert_exporter": "python",
   "pygments_lexer": "ipython3",
   "version": "3.8.12"
  }
 },
 "nbformat": 4,
 "nbformat_minor": 5
}
